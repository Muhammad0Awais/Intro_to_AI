{
  "nbformat": 4,
  "nbformat_minor": 0,
  "metadata": {
    "colab": {
      "provenance": [],
      "collapsed_sections": []
    },
    "kernelspec": {
      "name": "python3",
      "display_name": "Python 3"
    },
    "language_info": {
      "name": "python"
    }
  },
  "cells": [
    {
      "cell_type": "markdown",
      "source": [
        "#Particle Swarm Optimization\n",
        "\n"
      ],
      "metadata": {
        "id": "3Y5yRMqtlpkQ"
      }
    },
    {
      "cell_type": "markdown",
      "source": [
        "Importing Libraries"
      ],
      "metadata": {
        "id": "RhMgwG8Jn5Ad"
      }
    },
    {
      "cell_type": "code",
      "source": [
        "import numpy as np"
      ],
      "metadata": {
        "id": "AEbp2_hrKPKV"
      },
      "execution_count": 5,
      "outputs": []
    },
    {
      "cell_type": "markdown",
      "source": [
        "## Exercise 2\n",
        "\n",
        "Apply PSO for optimization of next formula: find minimum $\\sum_{i=1}^{N} x_{i}^2$ for $N=5$ in ranges $[-5;5]$ and $[1;5]$. \n",
        "\n",
        "- How many iterations were used? \n",
        "- What is the value of population?"
      ],
      "metadata": {
        "id": "6oBWD5SjmK_A"
      }
    },
    {
      "cell_type": "markdown",
      "source": [
        "Formula"
      ],
      "metadata": {
        "id": "BEFkUEqxJCe3"
      }
    },
    {
      "cell_type": "code",
      "source": [
        "def f(x: float)-> float:\n",
        "    \"Objective function\"\n",
        "    val = 0 \n",
        "    for v in range(5):\n",
        "      val += x*x\n",
        "    return val"
      ],
      "metadata": {
        "id": "AkRtjsa5JEI-"
      },
      "execution_count": 2,
      "outputs": []
    },
    {
      "cell_type": "markdown",
      "source": [
        "PSO"
      ],
      "metadata": {
        "id": "E228_chvJlVa"
      }
    },
    {
      "cell_type": "code",
      "source": [
        "def PSO_update():\n",
        "    \"Function to do one iteration of particle swarm optimization\"\n",
        "    global V, X, pbest, pbest_obj, gbest, gbest_obj\n",
        "    # Update params\n",
        "    r1, r2 = np.random.rand(2)  # getting the values of r1 and r2 randomly\n",
        "\n",
        "    # Calculate velocity and update the position (X)\n",
        "    V = w * V + c1*r1*(pbest - X) + c2*r2*(gbest.reshape(-1,1)-X) \n",
        "    X = X + V\n",
        "\n",
        "    # calculating formula values based on updated X\n",
        "    obj = f(X[0])\n",
        "\n",
        "    # Update pbest and gbest if the new values are minimum\n",
        "    pbest[:, (pbest_obj >= obj)] = X[:, (pbest_obj >= obj)]\n",
        "    pbest_obj = np.array([pbest_obj, obj]).min(axis=0)\n",
        "    gbest = pbest[:, pbest_obj.argmin()]\n",
        "    gbest_obj = pbest_obj.min()"
      ],
      "metadata": {
        "id": "oXflesUBJmPw"
      },
      "execution_count": 3,
      "outputs": []
    },
    {
      "cell_type": "markdown",
      "source": [
        "Initial Space"
      ],
      "metadata": {
        "id": "q_hl5ubeJVKF"
      }
    },
    {
      "cell_type": "code",
      "source": [
        "# generating the initial points 1:5\n",
        "x = np.array(np.meshgrid(np.linspace(1,5,100)))\n",
        "z = f(x)\n",
        "\n",
        "# Find the global min\n",
        "x_min = x.ravel()[z.argmin()]"
      ],
      "metadata": {
        "id": "tS2txjyIJYYr"
      },
      "execution_count": 6,
      "outputs": []
    },
    {
      "cell_type": "markdown",
      "source": [
        "HyperParameters"
      ],
      "metadata": {
        "id": "RLmcE9A8JFM6"
      }
    },
    {
      "cell_type": "code",
      "source": [
        "# Hyper-parameter of the algorithm\n",
        "c1 = c2 = 0.1\n",
        "w = 0.8\n",
        "n_particles = 20\n",
        "max_iter = 1000"
      ],
      "metadata": {
        "id": "POJ1x5KtJI7W"
      },
      "execution_count": 7,
      "outputs": []
    },
    {
      "cell_type": "markdown",
      "source": [
        "Creation of particles"
      ],
      "metadata": {
        "id": "zfg9ajLKJLyi"
      }
    },
    {
      "cell_type": "code",
      "source": [
        "np.random.seed(100)\n",
        "X = np.random.rand(1, n_particles) * 5\n",
        "V = np.random.randn(1, n_particles) * 0.1"
      ],
      "metadata": {
        "id": "weyM8fpjJbPG"
      },
      "execution_count": 8,
      "outputs": []
    },
    {
      "cell_type": "markdown",
      "source": [
        "Initializing the data with best values"
      ],
      "metadata": {
        "id": "rkQyCAW1JfnL"
      }
    },
    {
      "cell_type": "code",
      "source": [
        "# Initialize data\n",
        "pbest = X\n",
        "pbest_obj = f(X[0])\n",
        "gbest = pbest[:, pbest_obj.argmin()]\n",
        "gbest_obj = pbest_obj.min()"
      ],
      "metadata": {
        "id": "8eiaMdnmJfSW"
      },
      "execution_count": 9,
      "outputs": []
    },
    {
      "cell_type": "markdown",
      "source": [
        "Iterating over the PSO function"
      ],
      "metadata": {
        "id": "gZ-bxI8iJt68"
      }
    },
    {
      "cell_type": "code",
      "source": [
        "for i in range(max_iter):\n",
        "  PSO_update()\n",
        "\n",
        "print(\"PSO found best solution at f({})={}\".format(gbest, gbest_obj))\n",
        "print(\"Global optimal at f({})={}\".format([x_min], f(x_min)))"
      ],
      "metadata": {
        "colab": {
          "base_uri": "https://localhost:8080/"
        },
        "id": "WMlyQbJP-u_S",
        "outputId": "048e0773-670b-4aea-9736-52c780c9f56a"
      },
      "execution_count": null,
      "outputs": [
        {
          "output_type": "stream",
          "name": "stdout",
          "text": [
            "PSO found best solution at f([1.63847093e-52])=1.3422934868645753e-103\n",
            "Global optimal at f([1.0])=5.0\n"
          ]
        }
      ]
    },
    {
      "cell_type": "markdown",
      "source": [
        "- Value of population = 20\n",
        "- Iteration = 1000"
      ],
      "metadata": {
        "id": "91EyJ0A9LOkk"
      }
    }
  ]
}
