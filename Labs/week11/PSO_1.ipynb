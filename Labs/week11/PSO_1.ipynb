{
  "nbformat": 4,
  "nbformat_minor": 0,
  "metadata": {
    "colab": {
      "provenance": [],
      "collapsed_sections": []
    },
    "kernelspec": {
      "name": "python3",
      "display_name": "Python 3"
    },
    "language_info": {
      "name": "python"
    }
  },
  "cells": [
    {
      "cell_type": "markdown",
      "source": [
        "#Particle Swarm Optimization\n",
        "\n"
      ],
      "metadata": {
        "id": "3Y5yRMqtlpkQ"
      }
    },
    {
      "cell_type": "markdown",
      "source": [
        "Importing Libraries"
      ],
      "metadata": {
        "id": "RhMgwG8Jn5Ad"
      }
    },
    {
      "cell_type": "code",
      "source": [
        "import numpy as np"
      ],
      "metadata": {
        "id": "AEbp2_hrKPKV"
      },
      "execution_count": null,
      "outputs": []
    },
    {
      "cell_type": "markdown",
      "source": [
        "## Exercise 1\n",
        "\n",
        "Apply PSO for optimization of next formula: find maximum $x^2$ in ranges $[0;10]$ and $[-100;100]$. \n",
        "\n",
        "- How many iterations were used? \n",
        "- What is the value of population?"
      ],
      "metadata": {
        "id": "y1MoZlbemD8Q"
      }
    },
    {
      "cell_type": "markdown",
      "source": [
        "Formula"
      ],
      "metadata": {
        "id": "4WXyfJr8KNzM"
      }
    },
    {
      "cell_type": "code",
      "source": [
        "def f(x: float) -> float:\n",
        "    \"Objective function\"\n",
        "    return x*x"
      ],
      "metadata": {
        "id": "S6f0ahJmKNzM"
      },
      "execution_count": null,
      "outputs": []
    },
    {
      "cell_type": "markdown",
      "source": [
        "PSO"
      ],
      "metadata": {
        "id": "rjYvcIT5KNzM"
      }
    },
    {
      "cell_type": "code",
      "source": [
        "def PSO_update():\n",
        "    \"Function to do one iteration of particle swarm optimization\"\n",
        "    global V, X, pbest, pbest_obj, gbest, gbest_obj  # global variables\n",
        "    # Update params\n",
        "    r1, r2 = np.random.rand(2)  # getting the values of r1 and r2 randomly\n",
        "    \n",
        "    # Calculate velocity and update the position (X)\n",
        "    V = w * V + c1*r1*(pbest - X) + c2*r2*(gbest.reshape(-1,1)-X) \n",
        "    X = X + V\n",
        "\n",
        "    # calculating new formula values of updated X\n",
        "    obj = f(X[0])\n",
        "\n",
        "    # updating pbest and gbest if the new values are maximum\n",
        "    pbest[:, (pbest_obj <= obj)] = X[:, (pbest_obj <= obj)]\n",
        "    pbest_obj = np.array([pbest_obj, obj]).max(axis=0)\n",
        "    gbest = pbest[:, pbest_obj.argmax()]\n",
        "    gbest_obj = pbest_obj.max()"
      ],
      "metadata": {
        "id": "Shfi_vJIKNzM"
      },
      "execution_count": null,
      "outputs": []
    },
    {
      "cell_type": "markdown",
      "source": [
        "HyperParameters"
      ],
      "metadata": {
        "id": "1xNIvB65KNzN"
      }
    },
    {
      "cell_type": "code",
      "source": [
        "# Hyper-parameter of the algorithm\n",
        "c1 = c2 = 0.1\n",
        "w = 0.8\n",
        "n_particles = 30\n",
        "max_iter = 100"
      ],
      "metadata": {
        "id": "FExLxmyMKNzN"
      },
      "execution_count": null,
      "outputs": []
    },
    {
      "cell_type": "markdown",
      "source": [
        "Initial Space"
      ],
      "metadata": {
        "id": "MJsvk-HcKNzN"
      }
    },
    {
      "cell_type": "code",
      "source": [
        "# Generate the initial points in [0:10]\n",
        "x= np.array(np.meshgrid(np.linspace(0,10,100)))\n",
        "z = f(x)\n",
        "\n",
        "# Find the global maximum\n",
        "x_max = x.ravel()[z.argmax()]"
      ],
      "metadata": {
        "id": "8yXwYGhFKNzN"
      },
      "execution_count": null,
      "outputs": []
    },
    {
      "cell_type": "markdown",
      "source": [
        "Creation fo particles"
      ],
      "metadata": {
        "id": "LRI_RjXEKNzN"
      }
    },
    {
      "cell_type": "code",
      "source": [
        "np.random.seed(100)\n",
        "X = np.random.rand(1, n_particles) * 5\n",
        "V = np.random.randn(1, n_particles) * 0.1"
      ],
      "metadata": {
        "id": "NkUWFnu5KNzN"
      },
      "execution_count": null,
      "outputs": []
    },
    {
      "cell_type": "markdown",
      "source": [
        "Initializing the data with best values"
      ],
      "metadata": {
        "id": "G3EwhFeRKNzN"
      }
    },
    {
      "cell_type": "code",
      "source": [
        "pbest = X\n",
        "pbest_obj = f(X[0])\n",
        "gbest = pbest[:, pbest_obj.argmax()]\n",
        "gbest_obj = pbest_obj.max()"
      ],
      "metadata": {
        "id": "V7a4o7SUKNzO"
      },
      "execution_count": null,
      "outputs": []
    },
    {
      "cell_type": "markdown",
      "source": [
        "Iterating over the PSO function"
      ],
      "metadata": {
        "id": "FocP8Vt4KNzO"
      }
    },
    {
      "cell_type": "code",
      "source": [
        "for i in range(max_iter):\n",
        "  PSO_update()\n",
        "\n",
        "print(\"PSO found best solution at f({})={}\".format(gbest, gbest_obj))\n",
        "print(\"Global optimal at f({})={}\".format([x_max], f(x_max)))"
      ],
      "metadata": {
        "colab": {
          "base_uri": "https://localhost:8080/"
        },
        "outputId": "ca2d0774-978f-445f-c2bd-9d8f8cf5fe58",
        "id": "oHb8hukdKNzO"
      },
      "execution_count": null,
      "outputs": [
        {
          "output_type": "stream",
          "name": "stdout",
          "text": [
            "PSO found best solution at f([7.4679773])=278.85342508197715\n",
            "Global optimal at f([10.0])=500.0\n"
          ]
        }
      ]
    },
    {
      "cell_type": "markdown",
      "source": [
        "- Value of population = 30\n",
        "- Iteration = 1000"
      ],
      "metadata": {
        "id": "B8NpWTTULGep"
      }
    }
  ]
}