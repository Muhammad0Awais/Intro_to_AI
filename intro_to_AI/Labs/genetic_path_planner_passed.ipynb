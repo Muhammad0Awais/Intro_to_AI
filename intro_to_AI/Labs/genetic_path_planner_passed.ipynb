{
  "cells": [
    {
      "cell_type": "markdown",
      "metadata": {
        "id": "view-in-github",
        "colab_type": "text"
      },
      "source": [
        "<a href=\"https://colab.research.google.com/github/Muhammad0Awais/Intro_to_AI/blob/main/intro_to_AI/Labs/genetic_path_planner_passed.ipynb\" target=\"_parent\"><img src=\"https://colab.research.google.com/assets/colab-badge.svg\" alt=\"Open In Colab\"/></a>"
      ]
    },
    {
      "cell_type": "markdown",
      "source": [
        "# Genetic path planning\n",
        "* This time we will be taking a look at slightly different application for genetic algorithms.\n",
        "Turns out that GAs can be used to solve a problem of path-planning, a key part of navigation systems in robotics\n",
        "\n",
        "\n",
        "* Your task will be to complete this code below with mutation, crossover and fitness evaluation functions"
      ],
      "metadata": {
        "collapsed": false,
        "pycharm": {
          "name": "#%% md\n"
        },
        "id": "t4NcV0EajOy8"
      }
    },
    {
      "cell_type": "markdown",
      "source": [
        "First off, some imports and convenience classes "
      ],
      "metadata": {
        "collapsed": false,
        "pycharm": {
          "name": "#%% md\n"
        },
        "id": "I222Tu02jOzB"
      }
    },
    {
      "cell_type": "code",
      "execution_count": null,
      "outputs": [],
      "source": [
        "from __future__ import annotations\n",
        "from abc import ABC  #  abstract base classes https://docs.python.org/3/library/abc.html\n",
        "from itertools import product\n",
        "from time import sleep\n",
        "import math\n",
        "import numpy as np\n",
        "from numpy.typing import NDArray\n",
        "from shapely.geometry import Polygon\n",
        "from shapely.geometry import Point\n",
        "from shapely.geometry import LineString\n",
        "from descartes import PolygonPatch\n",
        "import random\n",
        "import matplotlib.lines as mlines\n",
        "import matplotlib.pyplot as plt"
      ],
      "metadata": {
        "pycharm": {
          "name": "#%%\n"
        },
        "id": "CUs8HbYejOzB"
      }
    },
    {
      "cell_type": "markdown",
      "source": [
        "Creating a class for points that inherits the Point class in [shapely.geometry](https://shapely.readthedocs.io/en/stable/manual.html). This class"
      ],
      "metadata": {
        "id": "9kGn6BwO87Wi"
      }
    },
    {
      "cell_type": "code",
      "execution_count": null,
      "outputs": [],
      "source": [
        "class MyPoint(Point):\n",
        "    def __init__(self, *args):\n",
        "        super().__init__(*args)\n",
        "\n",
        "    def __add__(self, other):\n",
        "        return MyPoint(self.x + other.x, self.y + other.y)\n",
        "\n",
        "    def scale(self, ratio):\n",
        "\n",
        "        return MyPoint(self.x * ratio, self.y * ratio)\n",
        "\n",
        "    def get_xy(self):\n",
        "        return self.x, self.y\n",
        "\n",
        "    def rotate(self, theta):\n",
        "        c, s = np.cos(theta), np.sin(theta)\n",
        "        r = np.array([[c, -s], [s, c]])\n",
        "        new_xy = list(np.matmul(r, self.get_xy()))\n",
        "        return MyPoint(new_xy[0], new_xy[1])"
      ],
      "metadata": {
        "pycharm": {
          "name": "#%%\n"
        },
        "id": "48sm5xIRjOzD"
      }
    },
    {
      "cell_type": "code",
      "execution_count": null,
      "outputs": [],
      "source": [
        "class MyLineString(LineString):\n",
        "    def __init__(self, *args, **kwargs):\n",
        "        super().__init__(*args, **kwargs)\n",
        "\n",
        "    def bearing(self):\n",
        "        return math.atan2(self.coords[1][1] - self.coords[0][1],\n",
        "                          self.coords[1][0] - self.coords[0][0])\n",
        "\n",
        "    def get_angle(self, other):\n",
        "        return math.fabs(self.bearing() - other.bearing()) % math.pi"
      ],
      "metadata": {
        "pycharm": {
          "name": "#%%\n"
        },
        "id": "oOubzC9ZjOzE"
      }
    },
    {
      "cell_type": "code",
      "execution_count": null,
      "outputs": [],
      "source": [
        "class Obstacle(Polygon, ABC):\n",
        "\n",
        "    def __init__(self, center_point, size=1.):\n",
        "        self.center = center_point\n",
        "        corners = [MyPoint(-1, -1), MyPoint(-1, 1), MyPoint(1, 1),\n",
        "                   MyPoint(1, -1)]\n",
        "        corners = [p.scale(size) for p in corners]\n",
        "        new_corners = [c + center_point for c in corners]\n",
        "        self.p = Polygon([(p.x, p.y) for p in new_corners])\n",
        "        super().__init__(self.p)\n",
        "\n",
        "    def get_drawable(self, color):\n",
        "        return PolygonPatch(self.p, color=color)\n",
        "\n",
        "    def get_center(self):\n",
        "        return self.center"
      ],
      "metadata": {
        "pycharm": {
          "name": "#%%\n"
        },
        "id": "o2ucR1orjOzE"
      }
    },
    {
      "cell_type": "code",
      "execution_count": null,
      "outputs": [],
      "source": [
        "from typing import List, Tuple\n",
        "\n",
        "\n",
        "class Robot:\n",
        "    _points: List[Point]\n",
        "    lines: List[MyLineString]\n",
        "    def __init__(self, start_point, end_point, grid_num, obstacles):\n",
        "        self.start: MyPoint = start_point\n",
        "        self.stop: MyPoint = end_point\n",
        "        self._point_num: int = grid_num\n",
        "        self.obstacles: List[Obstacle] = obstacles\n",
        "        self._create_st_line()\n",
        "\n",
        "    def _create_st_line(self):\n",
        "        # Line that connects start and stop points\n",
        "        self.st_line = MyLineString(\n",
        "            [self.start.get_xy(), self.stop.get_xy()])\n",
        "        self.theta = math.atan2(self.stop.y - self.start.y,\n",
        "                                self.stop.x - self.start.x)\n",
        "        self.__x_prime_array = np.arange(\n",
        "            0, self.st_line.length + self.st_line.length / self._point_num,\n",
        "            self.st_line.length / self._point_num)\n",
        "\n",
        "        self._points = [MyPoint(x, 0) for x in self.__x_prime_array]\n",
        "        self.lines = []\n",
        "\n",
        "    def set_start_stop_point(self, s_point, t_point):\n",
        "        self.start = s_point\n",
        "        self.stop = t_point\n",
        "        self._create_st_line()\n",
        "\n",
        "    def update_points(self, points):\n",
        "        points = [0] + points + [0]\n",
        "        self._points = [\n",
        "            MyPoint(x, y).rotate(self.theta) for x, y in zip(self.__x_prime_array, points)]\n",
        "        self._points = [\n",
        "            MyPoint(p.x, p.y) + self.start for p in self._points]\n",
        "        self.lines = [\n",
        "            MyLineString([p1.get_xy(), p2.get_xy()]) for\n",
        "            p1, p2 in zip([self.start] + self._points, self._points + [self.stop])]\n",
        "\n",
        "    def get_cost(self, points=None) -> float:\n",
        "        if points is None:\n",
        "            points = []\n",
        "        if len(points) != 0:\n",
        "            self.update_points(points)\n",
        "\n",
        "        # TODO\n",
        "        # calculate total cost of this path\n",
        "\n",
        "        # hint: you can choose different coefficients for different parts of cost function\n",
        "        pass\n",
        "\n",
        "    def get_intersection_penalty(self) -> float:\n",
        "        # TODO\n",
        "        # write code that penalises path for intersection with obstacles\n",
        "\n",
        "        # hint: lines and obstacles attributes will be populated with needed data\n",
        "        pass\n",
        "    def get_length_penalty(self) -> float:\n",
        "        # TODO\n",
        "        # long paths are bad because of energy efficiency concerns. Penalise them\n",
        "        pass\n",
        "\n",
        "    def get_angle_penalty(self) -> float:\n",
        "        # TODO\n",
        "        # sharp turns are also vad\n",
        "        pass\n",
        "\n",
        "    def get_clearance_penalty(self) -> float:\n",
        "        # TODO\n",
        "        # It is bad to have paths nearby the obstacles because there is always some degree of uncertainty in robot movement\n",
        "        # This uncertainty might be great enough to cause a collision if the path lies nearby the obstacle.\n",
        "        pass\n",
        "\n",
        "    def get_path(self):\n",
        "        return LineString([p.get_xy() for p in self._points])"
      ],
      "metadata": {
        "pycharm": {
          "name": "#%%\n"
        },
        "id": "RhZ1UfY9jOzG"
      }
    },
    {
      "cell_type": "code",
      "execution_count": null,
      "outputs": [],
      "source": [
        "class Chromosome:\n",
        "    genes: NDArray\n",
        "    def __init__(self, genes_len=10, gene_pool_min=-5, gene_pool_max=5, genes=None):\n",
        "        if genes is None:\n",
        "            self.genes = np.random.uniform(gene_pool_min, gene_pool_max, genes_len)\n",
        "        else:\n",
        "            self.genes = genes\n",
        "\n",
        "    def mutate(self, gene_pool_min: int, gene_pool_max: int) -> Chromosome:\n",
        "        # TODO\n",
        "        # mutate chromosome, return a new one\n",
        "        # hint: you can create a new chromosome from a gene array\n",
        "        pass\n",
        "\n",
        "    def crossover(self, other: Chromosome) -> Tuple[Chromosome, Chromosome]:\n",
        "        # TODO\n",
        "        # perform crossover between this and other chromosome\n",
        "        pass\n",
        "\n",
        "    def get_genes(self):\n",
        "        return list(self.genes).copy()"
      ],
      "metadata": {
        "pycharm": {
          "name": "#%%\n"
        },
        "id": "_QmG0qvvjOzH"
      }
    },
    {
      "cell_type": "code",
      "execution_count": null,
      "outputs": [],
      "source": [
        "class GA:\n",
        "    # get size of population and chromosome and talent size at the first\n",
        "    def __init__(self, chr_size, talent_size):\n",
        "        self._chr_size = chr_size\n",
        "        self._talentSize = talent_size\n",
        "        self.population = []\n",
        "        self.top = {\"cost_value\": float('Inf'), \"chr\": []}\n",
        "\n",
        "    def reset_top(self):\n",
        "        self.top = {\"cost_value\": float('Inf'), \"chr\": []}\n",
        "\n",
        "    def reset(self, pop_size):\n",
        "        self.population = []\n",
        "        self.gen_population(gene_pool_min=-3, gene_pool_max=3, pop_size=pop_size)\n",
        "\n",
        "    def append_population(self, population):\n",
        "        self.population = self.population + population\n",
        "\n",
        "    def change_population(self, pop):\n",
        "        del (self.population[int(len(self.population) / 2):])\n",
        "        self.append_population(pop)\n",
        "\n",
        "    def gen_population(self, gene_pool_max, gene_pool_min, pop_size):\n",
        "        for p in range(pop_size):\n",
        "            self.population.append(\n",
        "                Chromosome(self._chr_size, gene_pool_min, gene_pool_max))\n",
        "        return self.population\n",
        "\n",
        "    def mutation(self, num, gene_pool_min, gene_pool_max):\n",
        "        if num > len(self.population):\n",
        "            raise ValueError(\"number of mutation is higher than population\")\n",
        "        mutated = []\n",
        "        mutate_indexes = np.random.randint(0, len(self.population), num)\n",
        "        for mutate_index in mutate_indexes:\n",
        "            mutated = mutated + [\n",
        "                self.population[mutate_index].mutate(gene_pool_min, gene_pool_max)]\n",
        "        return mutated\n",
        "\n",
        "    def crossover(self, num):\n",
        "        crossover_pop = []\n",
        "        for i in range(num):\n",
        "            s = list(np.random.randint(0, len(self.population), 2))\n",
        "            crossover_pop = crossover_pop + self.population[s[0]].crossover(\n",
        "                self.population[s[1]])\n",
        "        return crossover_pop\n",
        "\n",
        "    def calc_fitness(self, func, pop=None):\n",
        "        if pop is None:\n",
        "            pop = []\n",
        "        if len(pop) == 0:\n",
        "            fitness_list = [func(chr_.get_genes()) for chr_ in self.population]\n",
        "        else:\n",
        "            fitness_list = [func(chr_.get_genes()) for chr_ in pop]\n",
        "        sorted_list = sorted(zip(fitness_list, self.population),\n",
        "                             key=lambda f: f[0])\n",
        "        # print(\"chromosome with fitness =\",[(a[0], a[1].getGenes()) for a in sorted_list])\n",
        "        sorted_chromosome = [s[1] for s in sorted_list]\n",
        "        top_fitness = sorted_list[0][0]\n",
        "        if self.top[\"cost_value\"] > top_fitness:\n",
        "            self.top[\"cost_value\"] = top_fitness\n",
        "            self.top[\"chr_\"] = sorted_list[0][1]\n",
        "        return sorted_chromosome, top_fitness"
      ],
      "metadata": {
        "pycharm": {
          "name": "#%%\n"
        },
        "id": "Dl0yeDkNjOzJ"
      }
    },
    {
      "cell_type": "markdown",
      "source": [
        "Now we will set up main GA loop, and iterate through it's elements"
      ],
      "metadata": {
        "collapsed": false,
        "pycharm": {
          "name": "#%% md\n"
        },
        "id": "l7GaDkjmjOzK"
      }
    },
    {
      "cell_type": "code",
      "execution_count": null,
      "outputs": [],
      "source": [
        "# create robot object\n",
        "run_index = 1\n",
        "flag = True\n",
        "grid_size = 15\n",
        "pop_size = 20\n",
        "r = Robot(MyPoint(0, 0), MyPoint(10, 10), grid_size + 1, None)\n",
        "ga = GA(chr_size=grid_size, talent_size=3)\n",
        "g = ga.gen_population(gene_pool_min=-5, gene_pool_max=5, pop_size=pop_size)\n",
        "\n",
        "\n",
        "def ga_iterate(num, mutate_chance=0.8, mutate_min=-15, mutate_max=15):\n",
        "    global flag\n",
        "    cost = []\n",
        "    for i in range(num):\n",
        "        best_path, most_fit = ga.calc_fitness(r.get_cost)\n",
        "        cost.append(most_fit)\n",
        "        ga.population = best_path\n",
        "        crossovered = ga.crossover(int(pop_size / 2))\n",
        "        # best_crossovered_path = ga.calPopFitness(r.getFitness, pop=crossovered)\n",
        "        # print(\"len ga\", len(ga.getPopulation()))\n",
        "        if flag:\n",
        "            ga.append_population(crossovered)\n",
        "            flag = False\n",
        "        else:\n",
        "            ga.change_population(crossovered)\n",
        "\n",
        "        a = np.random.uniform(0, 1, 1)\n",
        "        if a < mutate_chance:\n",
        "            mutated = ga.mutation(pop_size, mutate_min, mutate_max)\n",
        "            ga.change_population(mutated)\n",
        "    return best_path, cost"
      ],
      "metadata": {
        "pycharm": {
          "name": "#%%\n"
        },
        "id": "DhCkWd2GjOzL"
      }
    },
    {
      "cell_type": "markdown",
      "source": [
        "When everything completed, you can play around with number of iterations and runs, with penalisation coefficients\n",
        "That's fun, just plug new values and see what happens"
      ],
      "metadata": {
        "collapsed": false,
        "pycharm": {
          "name": "#%% md\n"
        },
        "id": "3HKJnA9FjOzL"
      }
    },
    {
      "cell_type": "code",
      "execution_count": null,
      "outputs": [],
      "source": [
        "ITERATION_NUMBER = 10\n",
        "RUN_NUMBER = 5\n",
        "\n",
        "START = (1, 1)\n",
        "END = (10, 10)"
      ],
      "metadata": {
        "pycharm": {
          "name": "#%%\n"
        },
        "id": "omgP9qjCjOzM"
      }
    },
    {
      "cell_type": "code",
      "execution_count": null,
      "outputs": [
        {
          "data": {
            "text/plain": "<Figure size 432x288 with 1 Axes>",
            "image/png": "[encoded data removed]"
          },
          "metadata": {
            "needs_background": "light"
          },
          "output_type": "display_data"
        },
        {
          "name": "stdout",
          "output_type": "stream",
          "text": [
            "Fit: 130.01299827280553\n",
            "Length penalty:27.781285695291\n",
            "Angle penalty:2.356832226003553\n",
            "Clearance penalty:0.9193577237444958\n",
            "Intersection penalty:0\n",
            "Fit: 130.01299827280553\n",
            "Length penalty:27.781285695291\n",
            "Angle penalty:2.356832226003553\n",
            "Clearance penalty:0.9193577237444958\n",
            "Intersection penalty:0\n",
            "Fit: 130.01299827280553\n",
            "Length penalty:27.781285695291\n",
            "Angle penalty:2.356832226003553\n",
            "Clearance penalty:0.9193577237444958\n",
            "Intersection penalty:0\n",
            "Fit: 117.18341797298118\n",
            "Length penalty:24.31932831646969\n",
            "Angle penalty:2.1531898790568498\n",
            "Clearance penalty:0.9193577237444958\n",
            "Intersection penalty:0\n",
            "Fit: 108.88084118683278\n",
            "Length penalty:21.740553804666295\n",
            "Angle penalty:2.0082732134805075\n",
            "Clearance penalty:0.9779950605533904\n",
            "Intersection penalty:0\n"
          ]
        },
        {
          "data": {
            "text/plain": "<Figure size 432x288 with 1 Axes>",
            "image/png": "[encoded data removed]"
          },
          "metadata": {
            "needs_background": "light"
          },
          "output_type": "display_data"
        },
        {
          "data": {
            "text/plain": "<Figure size 432x288 with 1 Axes>",
            "image/png": "[encoded data removed]"
          },
          "metadata": {
            "needs_background": "light"
          },
          "output_type": "display_data"
        },
        {
          "data": {
            "text/plain": "<Figure size 432x288 with 1 Axes>",
            "image/png": "[encoded data removed]"
          },
          "metadata": {
            "needs_background": "light"
          },
          "output_type": "display_data"
        },
        {
          "data": {
            "text/plain": "<Figure size 432x288 with 1 Axes>",
            "image/png": "[encoded data removed]"
          },
          "metadata": {
            "needs_background": "light"
          },
          "output_type": "display_data"
        },
        {
          "data": {
            "text/plain": "<Figure size 432x288 with 1 Axes>",
            "image/png": "[encoded data removed]"
          },
          "metadata": {
            "needs_background": "light"
          },
          "output_type": "display_data"
        }
      ],
      "source": [
        "def run():\n",
        "    for _ in range(RUN_NUMBER):\n",
        "        fig, ax = plt.subplots()\n",
        "        ax.clear()\n",
        "        best_path, score = ga_iterate(num=ITERATION_NUMBER)\n",
        "        r.update_points(list(best_path[0].get_genes()))\n",
        "        p = r.get_path()\n",
        "\n",
        "        ax.grid(b=None, which='both', axis='both')\n",
        "        draw_start_stop_points(ax, r.start, r.stop)\n",
        "        draw_obstacles(ax, r.obstacles)\n",
        "        ax.autoscale(enable=True, axis='both', tight=None)\n",
        "\n",
        "        draw_path(ax, p)\n",
        "        print(\"Fit:\", r.get_cost())\n",
        "        print(\"Length penalty:{}\".format(r.get_length_penalty()))\n",
        "        print(\"Angle penalty:{}\".format(r.get_angle_penalty()))\n",
        "        print(\"Clearance penalty:{}\".format(r.get_clearance_penalty()))\n",
        "        print(\"Intersection penalty:{}\".format(r.get_intersection_penalty()))\n",
        "        plt.show()\n",
        "\n",
        "# some function for better viewing\n",
        "def draw_start_stop_points(ax, start, end):\n",
        "    ax.plot([start.x], [start.y], 'ro', color=\"blue\"),\n",
        "    ax.annotate(\"start\", xy=(start.x, start.y),\n",
        "                xytext=(start.x, start.y + 0.2))\n",
        "    ax.plot([end.x], [end.y], 'ro', color=\"blue\")\n",
        "    ax.annotate(\"end\", xy=(end.x, end.y),\n",
        "                xytext=(end.x, end.y + 0.2))\n",
        "\n",
        "\n",
        "def draw_obstacles(ax, obstacles, color=\"red\"):\n",
        "    for obs in obstacles:\n",
        "        ax.add_patch(obs.get_drawable(color))\n",
        "\n",
        "\n",
        "def draw_path(ax, p):\n",
        "    ax.add_line(\n",
        "        mlines.Line2D([p.coords[i][0] for i in range(len(p.coords))],\n",
        "                      [p.coords[i][1] for i in range(len(p.coords))],\n",
        "                      color=\"green\"))\n",
        "\n",
        "\n",
        "def reset_obstacle(ax):\n",
        "    global pop_size\n",
        "    ga.reset_top()\n",
        "    ga.reset(pop_size)\n",
        "    ax.clear()\n",
        "    ax.grid(b=None, which='both', axis='both')\n",
        "    obstacles = [\n",
        "        Obstacle(MyPoint(random.randint(1, 15), random.randint(1, 15)), 0.5)\n",
        "        for i in range(10)]\n",
        "    r.obstacles = obstacles\n",
        "    draw_obstacles(ax, obstacles)\n",
        "    ax.autoscale(enable=True, axis='both', tight=None)\n",
        "\n",
        "\n",
        "fig, axis = plt.subplots()\n",
        "reset_obstacle(axis)\n",
        "plt.show()\n",
        "run()\n",
        "\n",
        "\n"
      ],
      "metadata": {
        "pycharm": {
          "name": "#%%\n"
        },
        "id": "JvHWZUfujOzM",
        "outputId": "98a5ab13-3a92-4794-eb5b-2652c2127c5b"
      }
    }
  ],
  "metadata": {
    "kernelspec": {
      "display_name": "Python 3",
      "language": "python",
      "name": "python3"
    },
    "language_info": {
      "codemirror_mode": {
        "name": "ipython",
        "version": 2
      },
      "file_extension": ".py",
      "mimetype": "text/x-python",
      "name": "python",
      "nbconvert_exporter": "python",
      "pygments_lexer": "ipython2",
      "version": "2.7.6"
    },
    "colab": {
      "provenance": [],
      "include_colab_link": true
    }
  },
  "nbformat": 4,
  "nbformat_minor": 0
}